{
 "cells": [
  {
   "cell_type": "code",
   "execution_count": 34,
   "metadata": {},
   "outputs": [],
   "source": [
    "import pandas as pd\n",
    "import os\n",
    "import matplotlib.pyplot as plt\n",
    "\n",
    "import time\n",
    "\n",
    "from PIL import Image\n",
    "\n",
    "import torch\n",
    "import torch.nn as nn\n",
    "import torch.nn.functional as F\n",
    "\n",
    "from torch.utils.data import Dataset, DataLoader\n",
    "\n",
    "from torchvision import transforms, models, utils"
   ]
  },
  {
   "cell_type": "code",
   "execution_count": 3,
   "metadata": {},
   "outputs": [],
   "source": [
    "df = pd.read_csv(os.path.join('data','training-dataset','latest_training_data.csv'))"
   ]
  },
  {
   "cell_type": "code",
   "execution_count": 4,
   "metadata": {},
   "outputs": [
    {
     "data": {
      "text/html": [
       "<div>\n",
       "<style scoped>\n",
       "    .dataframe tbody tr th:only-of-type {\n",
       "        vertical-align: middle;\n",
       "    }\n",
       "\n",
       "    .dataframe tbody tr th {\n",
       "        vertical-align: top;\n",
       "    }\n",
       "\n",
       "    .dataframe thead th {\n",
       "        text-align: right;\n",
       "    }\n",
       "</style>\n",
       "<table border=\"1\" class=\"dataframe\">\n",
       "  <thead>\n",
       "    <tr style=\"text-align: right;\">\n",
       "      <th></th>\n",
       "      <th>image_id</th>\n",
       "      <th>label</th>\n",
       "    </tr>\n",
       "  </thead>\n",
       "  <tbody>\n",
       "    <tr>\n",
       "      <th>0</th>\n",
       "      <td>BreastHistoTTD_1029</td>\n",
       "      <td>1</td>\n",
       "    </tr>\n",
       "    <tr>\n",
       "      <th>1</th>\n",
       "      <td>BreastHistoTTD_1035</td>\n",
       "      <td>1</td>\n",
       "    </tr>\n",
       "    <tr>\n",
       "      <th>2</th>\n",
       "      <td>BreastHistoTTD_389</td>\n",
       "      <td>1</td>\n",
       "    </tr>\n",
       "    <tr>\n",
       "      <th>3</th>\n",
       "      <td>BreastHistoTTD_1086</td>\n",
       "      <td>1</td>\n",
       "    </tr>\n",
       "    <tr>\n",
       "      <th>4</th>\n",
       "      <td>BreastHistoTTD_411</td>\n",
       "      <td>1</td>\n",
       "    </tr>\n",
       "  </tbody>\n",
       "</table>\n",
       "</div>"
      ],
      "text/plain": [
       "              image_id  label\n",
       "0  BreastHistoTTD_1029      1\n",
       "1  BreastHistoTTD_1035      1\n",
       "2   BreastHistoTTD_389      1\n",
       "3  BreastHistoTTD_1086      1\n",
       "4   BreastHistoTTD_411      1"
      ]
     },
     "execution_count": 4,
     "metadata": {},
     "output_type": "execute_result"
    }
   ],
   "source": [
    "df.head()"
   ]
  },
  {
   "cell_type": "code",
   "execution_count": 5,
   "metadata": {},
   "outputs": [
    {
     "data": {
      "text/plain": [
       "1    1107\n",
       "0     493\n",
       "Name: label, dtype: int64"
      ]
     },
     "execution_count": 5,
     "metadata": {},
     "output_type": "execute_result"
    }
   ],
   "source": [
    "df.label.value_counts()"
   ]
  },
  {
   "cell_type": "code",
   "execution_count": 6,
   "metadata": {},
   "outputs": [],
   "source": [
    "df['image_path'] = df['image_id'].map(lambda x: os.path.join('data','training-dataset','latest_training_data1',x+'.png'))"
   ]
  },
  {
   "cell_type": "code",
   "execution_count": 7,
   "metadata": {},
   "outputs": [
    {
     "data": {
      "text/html": [
       "<div>\n",
       "<style scoped>\n",
       "    .dataframe tbody tr th:only-of-type {\n",
       "        vertical-align: middle;\n",
       "    }\n",
       "\n",
       "    .dataframe tbody tr th {\n",
       "        vertical-align: top;\n",
       "    }\n",
       "\n",
       "    .dataframe thead th {\n",
       "        text-align: right;\n",
       "    }\n",
       "</style>\n",
       "<table border=\"1\" class=\"dataframe\">\n",
       "  <thead>\n",
       "    <tr style=\"text-align: right;\">\n",
       "      <th></th>\n",
       "      <th>image_id</th>\n",
       "      <th>label</th>\n",
       "      <th>image_path</th>\n",
       "    </tr>\n",
       "  </thead>\n",
       "  <tbody>\n",
       "    <tr>\n",
       "      <th>0</th>\n",
       "      <td>BreastHistoTTD_1029</td>\n",
       "      <td>1</td>\n",
       "      <td>data\\training-dataset\\latest_training_data1\\Br...</td>\n",
       "    </tr>\n",
       "    <tr>\n",
       "      <th>1</th>\n",
       "      <td>BreastHistoTTD_1035</td>\n",
       "      <td>1</td>\n",
       "      <td>data\\training-dataset\\latest_training_data1\\Br...</td>\n",
       "    </tr>\n",
       "    <tr>\n",
       "      <th>2</th>\n",
       "      <td>BreastHistoTTD_389</td>\n",
       "      <td>1</td>\n",
       "      <td>data\\training-dataset\\latest_training_data1\\Br...</td>\n",
       "    </tr>\n",
       "    <tr>\n",
       "      <th>3</th>\n",
       "      <td>BreastHistoTTD_1086</td>\n",
       "      <td>1</td>\n",
       "      <td>data\\training-dataset\\latest_training_data1\\Br...</td>\n",
       "    </tr>\n",
       "    <tr>\n",
       "      <th>4</th>\n",
       "      <td>BreastHistoTTD_411</td>\n",
       "      <td>1</td>\n",
       "      <td>data\\training-dataset\\latest_training_data1\\Br...</td>\n",
       "    </tr>\n",
       "  </tbody>\n",
       "</table>\n",
       "</div>"
      ],
      "text/plain": [
       "              image_id  label  \\\n",
       "0  BreastHistoTTD_1029      1   \n",
       "1  BreastHistoTTD_1035      1   \n",
       "2   BreastHistoTTD_389      1   \n",
       "3  BreastHistoTTD_1086      1   \n",
       "4   BreastHistoTTD_411      1   \n",
       "\n",
       "                                          image_path  \n",
       "0  data\\training-dataset\\latest_training_data1\\Br...  \n",
       "1  data\\training-dataset\\latest_training_data1\\Br...  \n",
       "2  data\\training-dataset\\latest_training_data1\\Br...  \n",
       "3  data\\training-dataset\\latest_training_data1\\Br...  \n",
       "4  data\\training-dataset\\latest_training_data1\\Br...  "
      ]
     },
     "execution_count": 7,
     "metadata": {},
     "output_type": "execute_result"
    }
   ],
   "source": [
    "df.head()"
   ]
  },
  {
   "cell_type": "code",
   "execution_count": 8,
   "metadata": {},
   "outputs": [],
   "source": [
    "from sklearn.model_selection import train_test_split\n",
    "\n",
    "df_train, df_val = train_test_split(df, test_size=0.10, random_state = 0)"
   ]
  },
  {
   "cell_type": "code",
   "execution_count": 9,
   "metadata": {},
   "outputs": [
    {
     "name": "stdout",
     "output_type": "stream",
     "text": [
      "1    999\n",
      "0    441\n",
      "Name: label, dtype: int64\n",
      "1    108\n",
      "0     52\n",
      "Name: label, dtype: int64\n"
     ]
    }
   ],
   "source": [
    "print(df_train['label'].value_counts()) \n",
    "print(df_val['label'].value_counts())"
   ]
  },
  {
   "cell_type": "code",
   "execution_count": 10,
   "metadata": {},
   "outputs": [],
   "source": [
    "class GenomeDataset(Dataset):\n",
    "    def __init__(self, df, transform = None, training=True):\n",
    "        self.df = df\n",
    "        self.len = len(self.df)\n",
    "        self.transform = transform\n",
    "        self.training = training\n",
    "        \n",
    "    def __len__(self):\n",
    "        return self.len\n",
    "    \n",
    "    def get_random_number(self):\n",
    "        return random.randint(0,self.len-1)\n",
    "    \n",
    "    def __getitem__(self,idx):\n",
    "        img = Image.open(self.df.iloc[idx].loc['image_path'])\n",
    "        \n",
    "        if self.transform:\n",
    "            img = self.transform(img)\n",
    "            \n",
    "        if self.training:    \n",
    "            label = self.df.iloc[idx].loc['label']\n",
    "            return img,  label\n",
    "        else:\n",
    "            return img"
   ]
  },
  {
   "cell_type": "code",
   "execution_count": 12,
   "metadata": {},
   "outputs": [],
   "source": [
    "normalize = transforms.Normalize(\n",
    "   mean=[0.5, 0.5, 0.5],\n",
    "   std=[0.5, 0.5, 0.5]\n",
    ")\n",
    "\n",
    "trans_train = transforms.Compose([\n",
    "    transforms.Resize([224,224]),\n",
    "#     transforms.Pad(64, padding_mode='reflect'),\n",
    "    transforms.RandomHorizontalFlip(),   \n",
    "    transforms.RandomVerticalFlip(),   \n",
    "    transforms.RandomRotation(20),\n",
    "#     transforms.RandomCrop(224),\n",
    "    transforms.ToTensor(),\n",
    "    normalize\n",
    "])\n",
    "\n",
    "trans_test = transforms.Compose([\n",
    "    transforms.Resize([224,224]),\n",
    "    transforms.ToTensor(),\n",
    "    normalize\n",
    "])\n",
    "\n",
    "train_ds = GenomeDataset(df_train, transform=trans_train)\n",
    "val_ds = GenomeDataset(df_val, transform=trans_test)\n",
    "# test_ds = GenomeDataset(df_test, transform=trans_test, training=True)\n",
    "\n",
    "train_dl = DataLoader(train_ds, batch_size=32, shuffle=True, num_workers=0)\n",
    "val_dl = DataLoader(val_ds, batch_size=32, shuffle=False, num_workers=0)\n",
    "# test_dl = DataLoader(test_ds, batch_size=32, num_workers=0)"
   ]
  },
  {
   "cell_type": "code",
   "execution_count": 13,
   "metadata": {},
   "outputs": [
    {
     "data": {
      "image/png": "[encoded data removed]",
      "text/plain": [
       "<PIL.Image.Image image mode=RGB size=224x224 at 0x17D427BA780>"
      ]
     },
     "execution_count": 13,
     "metadata": {},
     "output_type": "execute_result"
    }
   ],
   "source": [
    "toPIL = transforms.ToPILImage()\n",
    "toPIL(train_ds[1][0])"
   ]
  },
  {
   "cell_type": "code",
   "execution_count": 36,
   "metadata": {},
   "outputs": [],
   "source": [
    "class SimpleCNN(nn.Module):\n",
    "    def __init__(self):\n",
    "        # ancestor constructor call\n",
    "        super(SimpleCNN, self).__init__()\n",
    "        self.conv1 = nn.Conv2d(in_channels=3, out_channels=32, kernel_size=3, padding=2)\n",
    "        self.conv2 = nn.Conv2d(in_channels=32, out_channels=64, kernel_size=3, padding=2)\n",
    "        self.conv3 = nn.Conv2d(in_channels=64, out_channels=128, kernel_size=3, padding=2)\n",
    "        self.conv4 = nn.Conv2d(in_channels=128, out_channels=256, kernel_size=3, padding=2)\n",
    "        self.conv5 = nn.Conv2d(in_channels=256, out_channels=512, kernel_size=3, padding=2)\n",
    "        self.bn1 = nn.BatchNorm2d(32)\n",
    "        self.bn2 = nn.BatchNorm2d(64)\n",
    "        self.bn3 = nn.BatchNorm2d(128)\n",
    "        self.bn4 = nn.BatchNorm2d(256)\n",
    "        self.bn5 = nn.BatchNorm2d(512)\n",
    "        self.pool = nn.MaxPool2d(kernel_size=2, stride=2)\n",
    "        self.avg = nn.AvgPool2d(8)\n",
    "        self.fc = nn.Linear(512 * 1 * 1, 2) \n",
    "        \n",
    "    def forward(self, x):\n",
    "        x = self.pool(F.leaky_relu(self.bn1(self.conv1(x)))) \n",
    "        x = self.pool(F.leaky_relu(self.bn2(self.conv2(x))))\n",
    "        x = self.pool(F.leaky_relu(self.bn3(self.conv3(x))))\n",
    "        x = self.pool(F.leaky_relu(self.bn4(self.conv4(x))))\n",
    "        x = self.pool(F.leaky_relu(self.bn5(self.conv5(x))))\n",
    "        x = self.avg(x)\n",
    "        x = x.view(-1, 512 * 1 * 1) \n",
    "        x = self.fc(x)\n",
    "        return x"
   ]
  },
  {
   "cell_type": "code",
   "execution_count": 37,
   "metadata": {},
   "outputs": [],
   "source": [
    "# ## Parameters for model\n",
    "\n",
    "# # Hyper parameters\n",
    "# num_epochs = 50\n",
    "# num_classes = 2\n",
    "# batch_size = 32\n",
    "# learning_rate = 0.001\n",
    "\n",
    "# Device configuration\n",
    "device = torch.device('cuda:0' if torch.cuda.is_available() else 'cpu')\n"
   ]
  },
  {
   "cell_type": "code",
   "execution_count": 38,
   "metadata": {},
   "outputs": [],
   "source": [
    "def train_model(dataloders, model, criterion, optimizer, scheduler=None, num_epochs=25):\n",
    "    since = time.time()\n",
    "    best_model_wts = model.state_dict()\n",
    "    best_acc = 0.0\n",
    "    dataset_sizes = {'train': len(dataloders['train'].dataset), \n",
    "                     'valid': len(dataloders['valid'].dataset)}\n",
    "\n",
    "    for epoch in range(num_epochs):\n",
    "        for phase in ['train', 'valid']:\n",
    "            if phase == 'train':\n",
    "#                 scheduler.step()\n",
    "                model.train(True)\n",
    "            else:\n",
    "                model.train(False)\n",
    "\n",
    "            running_loss = 0.0\n",
    "            running_corrects = 0\n",
    "\n",
    "            for inputs, labels in dataloders[phase]:\n",
    "                inputs, labels = inputs.to(device), labels.type(torch.LongTensor).to(device)\n",
    "\n",
    "                outputs = model(inputs)\n",
    "                _, preds = torch.max(outputs.data, 1)\n",
    "                loss = criterion(outputs, labels)\n",
    "    \n",
    "                if phase == 'train':\n",
    "                    optimizer.zero_grad()\n",
    "                    loss.backward()\n",
    "                    optimizer.step()\n",
    "\n",
    "                running_loss += loss.item()\n",
    "                running_corrects += torch.sum(preds == labels).item()\n",
    "            \n",
    "            if phase == 'train':\n",
    "                train_epoch_loss = running_loss / dataset_sizes[phase]\n",
    "                train_epoch_acc = running_corrects / dataset_sizes[phase]\n",
    "            else:\n",
    "                valid_epoch_loss = running_loss / dataset_sizes[phase]\n",
    "                valid_epoch_acc = running_corrects / dataset_sizes[phase]\n",
    "                \n",
    "            if phase == 'valid' and valid_epoch_acc > best_acc:\n",
    "                best_acc = valid_epoch_acc\n",
    "                best_model_wts = model.state_dict()\n",
    "\n",
    "        print('Epoch [{}/{}] train loss: {:.4f} acc: {:.4f} ' \n",
    "              'valid loss: {:.4f} acc: {:.4f}'.format(\n",
    "                epoch, num_epochs - 1,\n",
    "                train_epoch_loss, train_epoch_acc, \n",
    "                valid_epoch_loss, valid_epoch_acc))\n",
    "            \n",
    "    print('Best val Acc: {:4f}'.format(best_acc))\n",
    "\n",
    "    model.load_state_dict(best_model_wts)\n",
    "    return model"
   ]
  },
  {
   "cell_type": "code",
   "execution_count": 47,
   "metadata": {},
   "outputs": [],
   "source": [
    "model = SimpleCNN().to(device)\n",
    "\n",
    "criterion = nn.CrossEntropyLoss()\n",
    "optimizer = torch.optim.Adamax(model.parameters(), lr=learning_rate)\n",
    "\n",
    "# criterion = torch.nn.CrossEntropyLoss()\n",
    "# optimizer = torch.optim.SGD(resnet.fc.parameters(), lr=0.001, momentum=0.9)\n",
    "# exp_lr_scheduler = lr_scheduler.StepLR(optimizer, step_size=7, gamma=0.1)\n",
    "\n",
    "dloaders = {'train':train_dl, 'valid':val_dl}"
   ]
  },
  {
   "cell_type": "code",
   "execution_count": 40,
   "metadata": {},
   "outputs": [
    {
     "name": "stdout",
     "output_type": "stream",
     "text": [
      "Epoch [0/49] train loss: 0.0134 acc: 0.8083 valid loss: 0.0144 acc: 0.7750\n",
      "Epoch [1/49] train loss: 0.0113 acc: 0.8472 valid loss: 0.0104 acc: 0.8625\n",
      "Epoch [2/49] train loss: 0.0104 acc: 0.8514 valid loss: 0.0118 acc: 0.8063\n",
      "Epoch [3/49] train loss: 0.0098 acc: 0.8674 valid loss: 0.0111 acc: 0.8313\n",
      "Epoch [4/49] train loss: 0.0088 acc: 0.8729 valid loss: 0.0081 acc: 0.8750\n",
      "Epoch [5/49] train loss: 0.0096 acc: 0.8660 valid loss: 0.0102 acc: 0.8562\n",
      "Epoch [6/49] train loss: 0.0094 acc: 0.8701 valid loss: 0.0112 acc: 0.8187\n",
      "Epoch [7/49] train loss: 0.0084 acc: 0.8771 valid loss: 0.0074 acc: 0.8938\n",
      "Epoch [8/49] train loss: 0.0077 acc: 0.8993 valid loss: 0.0081 acc: 0.8562\n",
      "Epoch [9/49] train loss: 0.0078 acc: 0.8938 valid loss: 0.0073 acc: 0.9062\n",
      "Epoch [10/49] train loss: 0.0070 acc: 0.9132 valid loss: 0.0121 acc: 0.8750\n",
      "Epoch [11/49] train loss: 0.0075 acc: 0.9021 valid loss: 0.0143 acc: 0.8125\n",
      "Epoch [12/49] train loss: 0.0073 acc: 0.8986 valid loss: 0.0137 acc: 0.8688\n",
      "Epoch [13/49] train loss: 0.0065 acc: 0.9139 valid loss: 0.0080 acc: 0.9000\n",
      "Epoch [14/49] train loss: 0.0066 acc: 0.9132 valid loss: 0.0111 acc: 0.8375\n",
      "Epoch [15/49] train loss: 0.0073 acc: 0.9090 valid loss: 0.0110 acc: 0.8625\n",
      "Epoch [16/49] train loss: 0.0070 acc: 0.9062 valid loss: 0.0063 acc: 0.9187\n",
      "Epoch [17/49] train loss: 0.0066 acc: 0.9062 valid loss: 0.0070 acc: 0.9250\n",
      "Epoch [18/49] train loss: 0.0065 acc: 0.9153 valid loss: 0.0081 acc: 0.9125\n",
      "Epoch [19/49] train loss: 0.0057 acc: 0.9340 valid loss: 0.0073 acc: 0.9000\n",
      "Epoch [20/49] train loss: 0.0066 acc: 0.9069 valid loss: 0.0067 acc: 0.9250\n",
      "Epoch [21/49] train loss: 0.0065 acc: 0.9181 valid loss: 0.0055 acc: 0.9062\n",
      "Epoch [22/49] train loss: 0.0058 acc: 0.9194 valid loss: 0.0083 acc: 0.8812\n",
      "Epoch [23/49] train loss: 0.0059 acc: 0.9222 valid loss: 0.0076 acc: 0.8750\n",
      "Epoch [24/49] train loss: 0.0057 acc: 0.9271 valid loss: 0.0053 acc: 0.9375\n",
      "Epoch [25/49] train loss: 0.0052 acc: 0.9340 valid loss: 0.0060 acc: 0.9250\n",
      "Epoch [26/49] train loss: 0.0051 acc: 0.9361 valid loss: 0.0057 acc: 0.9375\n",
      "Epoch [27/49] train loss: 0.0051 acc: 0.9326 valid loss: 0.0064 acc: 0.9313\n",
      "Epoch [28/49] train loss: 0.0050 acc: 0.9396 valid loss: 0.0084 acc: 0.9000\n",
      "Epoch [29/49] train loss: 0.0044 acc: 0.9382 valid loss: 0.0172 acc: 0.8438\n",
      "Epoch [30/49] train loss: 0.0052 acc: 0.9368 valid loss: 0.0095 acc: 0.8875\n",
      "Epoch [31/49] train loss: 0.0043 acc: 0.9451 valid loss: 0.0055 acc: 0.9187\n",
      "Epoch [32/49] train loss: 0.0049 acc: 0.9326 valid loss: 0.0041 acc: 0.9563\n",
      "Epoch [33/49] train loss: 0.0047 acc: 0.9417 valid loss: 0.0070 acc: 0.9313\n",
      "Epoch [34/49] train loss: 0.0054 acc: 0.9250 valid loss: 0.0061 acc: 0.9062\n",
      "Epoch [35/49] train loss: 0.0048 acc: 0.9361 valid loss: 0.0090 acc: 0.8875\n",
      "Epoch [36/49] train loss: 0.0047 acc: 0.9389 valid loss: 0.0080 acc: 0.8938\n",
      "Epoch [37/49] train loss: 0.0052 acc: 0.9299 valid loss: 0.0154 acc: 0.8562\n",
      "Epoch [38/49] train loss: 0.0047 acc: 0.9382 valid loss: 0.0117 acc: 0.8750\n",
      "Epoch [39/49] train loss: 0.0039 acc: 0.9493 valid loss: 0.0068 acc: 0.9187\n",
      "Epoch [40/49] train loss: 0.0040 acc: 0.9458 valid loss: 0.0147 acc: 0.8562\n",
      "Epoch [41/49] train loss: 0.0048 acc: 0.9410 valid loss: 0.0092 acc: 0.8812\n",
      "Epoch [42/49] train loss: 0.0044 acc: 0.9493 valid loss: 0.0040 acc: 0.9500\n",
      "Epoch [43/49] train loss: 0.0038 acc: 0.9556 valid loss: 0.0059 acc: 0.9437\n",
      "Epoch [44/49] train loss: 0.0035 acc: 0.9535 valid loss: 0.0051 acc: 0.9313\n",
      "Epoch [45/49] train loss: 0.0041 acc: 0.9528 valid loss: 0.0138 acc: 0.8313\n",
      "Epoch [46/49] train loss: 0.0041 acc: 0.9486 valid loss: 0.0048 acc: 0.9375\n",
      "Epoch [47/49] train loss: 0.0032 acc: 0.9563 valid loss: 0.0050 acc: 0.9250\n",
      "Epoch [48/49] train loss: 0.0034 acc: 0.9611 valid loss: 0.0135 acc: 0.8688\n",
      "Epoch [49/49] train loss: 0.0038 acc: 0.9479 valid loss: 0.0048 acc: 0.9500\n",
      "Best val Acc: 0.956250\n",
      "Training time:  22.285951 minutes\n"
     ]
    }
   ],
   "source": [
    "start_time = time.time()\n",
    "model = train_model(dloaders, model, criterion, optimizer, num_epochs=50)\n",
    "print('Training time: {:10f} minutes'.format((time.time()-start_time)/60))"
   ]
  },
  {
   "cell_type": "code",
   "execution_count": 46,
   "metadata": {},
   "outputs": [],
   "source": [
    "model_path = os.path.join('model','baseline.pth')\n",
    "# torch.save(model.state_dict(), model_path)"
   ]
  },
  {
   "cell_type": "code",
   "execution_count": 49,
   "metadata": {},
   "outputs": [],
   "source": [
    "# load model \n",
    "model.load_state_dict(torch.load(model_path))\n"
   ]
  },
  {
   "cell_type": "code",
   "execution_count": null,
   "metadata": {},
   "outputs": [],
   "source": []
  },
  {
   "cell_type": "code",
   "execution_count": 41,
   "metadata": {},
   "outputs": [],
   "source": [
    "# # Train the model\n",
    "# total_step = len(train_dl)\n",
    "# for epoch in range(num_epochs):\n",
    "#     for i, (images, labels) in enumerate(train_dl):\n",
    "#         images = images.to(device)\n",
    "#         labels = labels.to(device)\n",
    "        \n",
    "#         # Forward pass\n",
    "#         outputs = model(images)\n",
    "#         loss = criterion(outputs, labels)\n",
    "        \n",
    "#         # Backward and optimize\n",
    "#         optimizer.zero_grad()\n",
    "#         loss.backward()\n",
    "#         optimizer.step()\n",
    "        \n",
    "#         if (i+1) % 20 == 0:\n",
    "#             print ('Epoch [{}/{}], Step [{}/{}], Loss: {:.4f}' \n",
    "#                    .format(epoch+1, num_epochs, i+1, total_step, loss.item()))"
   ]
  },
  {
   "cell_type": "code",
   "execution_count": 50,
   "metadata": {},
   "outputs": [
    {
     "name": "stdout",
     "output_type": "stream",
     "text": [
      "Test Accuracy of the model on the test images: 95.0 %\n"
     ]
    }
   ],
   "source": [
    "model.eval()  \n",
    "y_true=[]\n",
    "y_pred=[]\n",
    "\n",
    "with torch.no_grad():\n",
    "    correct = 0\n",
    "    total = 0\n",
    "    for images, labels in val_dl:\n",
    "        images = images.to(device)\n",
    "#         print(images.size())\n",
    "        labels = labels.to(device)\n",
    "        outputs = model(images)\n",
    "        _, predicted = torch.max(outputs.data, 1)\n",
    "        total += labels.size(0)\n",
    "#         print(predicted, labels)\n",
    "        correct += (predicted == labels).sum().item()\n",
    "        \n",
    "        y_true+=list(labels.cpu().numpy())\n",
    "        y_pred+=list(predicted.cpu().numpy())\n",
    "          \n",
    "    print('Test Accuracy of the model on the test images: {} %'.format(100 * correct / total))\n"
   ]
  },
  {
   "cell_type": "code",
   "execution_count": 44,
   "metadata": {},
   "outputs": [],
   "source": [
    "from sklearn.metrics import confusion_matrix\n",
    "cm = confusion_matrix(y_true, y_pred)"
   ]
  },
  {
   "cell_type": "code",
   "execution_count": 51,
   "metadata": {},
   "outputs": [
    {
     "data": {
      "text/plain": [
       "array([[ 49,   3],\n",
       "       [  5, 103]], dtype=int64)"
      ]
     },
     "execution_count": 51,
     "metadata": {},
     "output_type": "execute_result"
    }
   ],
   "source": [
    "cm"
   ]
  },
  {
   "cell_type": "code",
   "execution_count": 54,
   "metadata": {},
   "outputs": [
    {
     "data": {
      "image/png": "[encoded data removed]",
      "text/plain": [
       "<Figure size 432x288 with 2 Axes>"
      ]
     },
     "metadata": {
      "needs_background": "light"
     },
     "output_type": "display_data"
    }
   ],
   "source": [
    "import seaborn as sns    \n",
    "\n",
    "ax= plt.subplot()\n",
    "sns.heatmap(cm, annot=True, ax = ax); #annot=True to annotate cells\n",
    "\n",
    "# labels, title and ticks\n",
    "ax.set_xlabel('Predicted labels');\n",
    "ax.set_ylabel('True labels'); \n",
    "ax.set_title('Confusion Matrix'); \n",
    "ax.xaxis.set_ticklabels(['Negative', 'Positive']); \n",
    "ax.yaxis.set_ticklabels(['Negative', 'Positive']);"
   ]
  },
  {
   "cell_type": "code",
   "execution_count": 57,
   "metadata": {},
   "outputs": [
    {
     "name": "stdout",
     "output_type": "stream",
     "text": [
      "0.9626168224299064\n",
      "0.9716981132075472\n",
      "0.9537037037037037\n"
     ]
    }
   ],
   "source": [
    "from sklearn.metrics import f1_score, precision_score, recall_score\n",
    "\n",
    "print(f1_score(y_true, y_pred))\n",
    "print(precision_score(y_true, y_pred))\n",
    "print(recall_score(y_true, y_pred))  "
   ]
  },
  {
   "cell_type": "code",
   "execution_count": 58,
   "metadata": {},
   "outputs": [
    {
     "data": {
      "text/plain": [
       "1571586"
      ]
     },
     "execution_count": 58,
     "metadata": {},
     "output_type": "execute_result"
    }
   ],
   "source": [
    "# number of params\n",
    "sum(p.numel() for p in model.parameters())"
   ]
  },
  {
   "cell_type": "code",
   "execution_count": null,
   "metadata": {},
   "outputs": [],
   "source": []
  }
 ],
 "metadata": {
  "kernelspec": {
   "display_name": "Python 3",
   "language": "python",
   "name": "python3"
  }
 },
 "nbformat": 4,
 "nbformat_minor": 2
}
