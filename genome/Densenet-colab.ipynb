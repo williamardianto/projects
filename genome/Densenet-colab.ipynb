{
 "cells": [
  {
   "cell_type": "code",
   "execution_count": 0,
   "metadata": {
    "colab": {},
    "colab_type": "code",
    "id": "yP5Lyc7Vj98V"
   },
   "outputs": [],
   "source": [
    "import pandas as pd\n",
    "import numpy as np\n",
    "import os\n",
    "import matplotlib.pyplot as plt\n",
    "\n",
    "import time\n",
    "\n",
    "from PIL import Image\n",
    "\n",
    "import torch\n",
    "import torch.nn as nn\n",
    "import torch.nn.functional as F\n",
    "\n",
    "from torch.utils.data import Dataset, DataLoader\n",
    "\n",
    "from torchvision import transforms, models, utils\n"
   ]
  },
  {
   "cell_type": "code",
   "execution_count": 0,
   "metadata": {
    "colab": {},
    "colab_type": "code",
    "id": "0GbyyIKdkkbp"
   },
   "outputs": [],
   "source": [
    "!pip install -U -q PyDrive\n",
    "import os\n",
    "from pydrive.auth import GoogleAuth\n",
    "from pydrive.drive import GoogleDrive\n",
    "from google.colab import auth\n",
    "from oauth2client.client import GoogleCredentials\n",
    "\n",
    "# 1. Authenticate and create the PyDrive client.\n",
    "auth.authenticate_user()\n",
    "gauth = GoogleAuth()\n",
    "gauth.credentials = GoogleCredentials.get_application_default()\n",
    "drive = GoogleDrive(gauth)\n",
    "\n",
    "link = 'https://drive.google.com/open?id=1p-Xzehj-bAVZ1pH4mJuUfV48Yj3Ih-6C'\n",
    "fluff, id = link.split('=')\n",
    "downloaded = drive.CreateFile({'id':id}) \n",
    "downloaded.GetContentFile('training_dataset.zip')"
   ]
  },
  {
   "cell_type": "code",
   "execution_count": 0,
   "metadata": {
    "colab": {
     "base_uri": "https://localhost:8080/",
     "height": 51
    },
    "colab_type": "code",
    "id": "R6Z232zwny8y",
    "outputId": "d1403358-f07b-4d43-b761-b52d196a51cc"
   },
   "outputs": [
    {
     "name": "stdout",
     "output_type": "stream",
     "text": [
      "adc.json                latest_training_data.csv  training_dataset.zip\n",
      "\u001b[0m\u001b[01;34mlatest_training_data1\u001b[0m/  \u001b[01;34msample_data\u001b[0m/\n"
     ]
    }
   ],
   "source": [
    "# !unzip 'training_dataset.zip'\n",
    "%ls"
   ]
  },
  {
   "cell_type": "code",
   "execution_count": 0,
   "metadata": {
    "colab": {},
    "colab_type": "code",
    "id": "86JD5_nvj98Z"
   },
   "outputs": [],
   "source": [
    "df = pd.read_csv('latest_training_data.csv')"
   ]
  },
  {
   "cell_type": "code",
   "execution_count": 0,
   "metadata": {
    "colab": {
     "base_uri": "https://localhost:8080/",
     "height": 204
    },
    "colab_type": "code",
    "id": "im59Q6bhj98a",
    "outputId": "98fb7516-8c0f-4fdb-a7fe-ae97f0f7a605"
   },
   "outputs": [
    {
     "data": {
      "text/html": [
       "<div>\n",
       "<style scoped>\n",
       "    .dataframe tbody tr th:only-of-type {\n",
       "        vertical-align: middle;\n",
       "    }\n",
       "\n",
       "    .dataframe tbody tr th {\n",
       "        vertical-align: top;\n",
       "    }\n",
       "\n",
       "    .dataframe thead th {\n",
       "        text-align: right;\n",
       "    }\n",
       "</style>\n",
       "<table border=\"1\" class=\"dataframe\">\n",
       "  <thead>\n",
       "    <tr style=\"text-align: right;\">\n",
       "      <th></th>\n",
       "      <th>image_id</th>\n",
       "      <th>label</th>\n",
       "    </tr>\n",
       "  </thead>\n",
       "  <tbody>\n",
       "    <tr>\n",
       "      <th>0</th>\n",
       "      <td>BreastHistoTTD_1029</td>\n",
       "      <td>1</td>\n",
       "    </tr>\n",
       "    <tr>\n",
       "      <th>1</th>\n",
       "      <td>BreastHistoTTD_1035</td>\n",
       "      <td>1</td>\n",
       "    </tr>\n",
       "    <tr>\n",
       "      <th>2</th>\n",
       "      <td>BreastHistoTTD_389</td>\n",
       "      <td>1</td>\n",
       "    </tr>\n",
       "    <tr>\n",
       "      <th>3</th>\n",
       "      <td>BreastHistoTTD_1086</td>\n",
       "      <td>1</td>\n",
       "    </tr>\n",
       "    <tr>\n",
       "      <th>4</th>\n",
       "      <td>BreastHistoTTD_411</td>\n",
       "      <td>1</td>\n",
       "    </tr>\n",
       "  </tbody>\n",
       "</table>\n",
       "</div>"
      ],
      "text/plain": [
       "              image_id  label\n",
       "0  BreastHistoTTD_1029      1\n",
       "1  BreastHistoTTD_1035      1\n",
       "2   BreastHistoTTD_389      1\n",
       "3  BreastHistoTTD_1086      1\n",
       "4   BreastHistoTTD_411      1"
      ]
     },
     "execution_count": 5,
     "metadata": {
      "tags": []
     },
     "output_type": "execute_result"
    }
   ],
   "source": [
    "df.head()"
   ]
  },
  {
   "cell_type": "code",
   "execution_count": 0,
   "metadata": {
    "colab": {
     "base_uri": "https://localhost:8080/",
     "height": 68
    },
    "colab_type": "code",
    "id": "SGKlbBN1j98e",
    "outputId": "3cd6ff7a-c51c-4413-fc90-69ad38cfab0f"
   },
   "outputs": [
    {
     "data": {
      "text/plain": [
       "1    1107\n",
       "0     493\n",
       "Name: label, dtype: int64"
      ]
     },
     "execution_count": 6,
     "metadata": {
      "tags": []
     },
     "output_type": "execute_result"
    }
   ],
   "source": [
    "df.label.value_counts()"
   ]
  },
  {
   "cell_type": "code",
   "execution_count": 0,
   "metadata": {
    "colab": {},
    "colab_type": "code",
    "id": "5IOI1kDIj98g"
   },
   "outputs": [],
   "source": [
    "df['image_path'] = df['image_id'].map(lambda x: os.path.join('latest_training_data1',x+'.png'))"
   ]
  },
  {
   "cell_type": "code",
   "execution_count": 0,
   "metadata": {
    "colab": {
     "base_uri": "https://localhost:8080/",
     "height": 204
    },
    "colab_type": "code",
    "id": "nJXlYRwjj98i",
    "outputId": "b3ad6360-e669-4b9f-b9c8-f12b19aed998"
   },
   "outputs": [
    {
     "data": {
      "text/html": [
       "<div>\n",
       "<style scoped>\n",
       "    .dataframe tbody tr th:only-of-type {\n",
       "        vertical-align: middle;\n",
       "    }\n",
       "\n",
       "    .dataframe tbody tr th {\n",
       "        vertical-align: top;\n",
       "    }\n",
       "\n",
       "    .dataframe thead th {\n",
       "        text-align: right;\n",
       "    }\n",
       "</style>\n",
       "<table border=\"1\" class=\"dataframe\">\n",
       "  <thead>\n",
       "    <tr style=\"text-align: right;\">\n",
       "      <th></th>\n",
       "      <th>image_id</th>\n",
       "      <th>label</th>\n",
       "      <th>image_path</th>\n",
       "    </tr>\n",
       "  </thead>\n",
       "  <tbody>\n",
       "    <tr>\n",
       "      <th>0</th>\n",
       "      <td>BreastHistoTTD_1029</td>\n",
       "      <td>1</td>\n",
       "      <td>latest_training_data1/BreastHistoTTD_1029.png</td>\n",
       "    </tr>\n",
       "    <tr>\n",
       "      <th>1</th>\n",
       "      <td>BreastHistoTTD_1035</td>\n",
       "      <td>1</td>\n",
       "      <td>latest_training_data1/BreastHistoTTD_1035.png</td>\n",
       "    </tr>\n",
       "    <tr>\n",
       "      <th>2</th>\n",
       "      <td>BreastHistoTTD_389</td>\n",
       "      <td>1</td>\n",
       "      <td>latest_training_data1/BreastHistoTTD_389.png</td>\n",
       "    </tr>\n",
       "    <tr>\n",
       "      <th>3</th>\n",
       "      <td>BreastHistoTTD_1086</td>\n",
       "      <td>1</td>\n",
       "      <td>latest_training_data1/BreastHistoTTD_1086.png</td>\n",
       "    </tr>\n",
       "    <tr>\n",
       "      <th>4</th>\n",
       "      <td>BreastHistoTTD_411</td>\n",
       "      <td>1</td>\n",
       "      <td>latest_training_data1/BreastHistoTTD_411.png</td>\n",
       "    </tr>\n",
       "  </tbody>\n",
       "</table>\n",
       "</div>"
      ],
      "text/plain": [
       "              image_id  label                                     image_path\n",
       "0  BreastHistoTTD_1029      1  latest_training_data1/BreastHistoTTD_1029.png\n",
       "1  BreastHistoTTD_1035      1  latest_training_data1/BreastHistoTTD_1035.png\n",
       "2   BreastHistoTTD_389      1   latest_training_data1/BreastHistoTTD_389.png\n",
       "3  BreastHistoTTD_1086      1  latest_training_data1/BreastHistoTTD_1086.png\n",
       "4   BreastHistoTTD_411      1   latest_training_data1/BreastHistoTTD_411.png"
      ]
     },
     "execution_count": 8,
     "metadata": {
      "tags": []
     },
     "output_type": "execute_result"
    }
   ],
   "source": [
    "df.head()"
   ]
  },
  {
   "cell_type": "code",
   "execution_count": 0,
   "metadata": {
    "colab": {},
    "colab_type": "code",
    "id": "K3APIOIRj98k"
   },
   "outputs": [],
   "source": [
    "from sklearn.model_selection import train_test_split\n",
    "\n",
    "df_train, df_val = train_test_split(df, test_size=0.10, random_state = 0)"
   ]
  },
  {
   "cell_type": "code",
   "execution_count": 0,
   "metadata": {
    "colab": {
     "base_uri": "https://localhost:8080/",
     "height": 119
    },
    "colab_type": "code",
    "id": "h37j5YnAj98m",
    "outputId": "c19e586a-b80e-44ba-eeed-6b8ba6233ee8"
   },
   "outputs": [
    {
     "name": "stdout",
     "output_type": "stream",
     "text": [
      "1    999\n",
      "0    441\n",
      "Name: label, dtype: int64\n",
      "1    108\n",
      "0     52\n",
      "Name: label, dtype: int64\n"
     ]
    }
   ],
   "source": [
    "print(df_train['label'].value_counts()) \n",
    "print(df_val['label'].value_counts())"
   ]
  },
  {
   "cell_type": "code",
   "execution_count": 0,
   "metadata": {
    "colab": {},
    "colab_type": "code",
    "id": "GUfz-MzMBVMH"
   },
   "outputs": [],
   "source": [
    "# !pip install git+https://github.com/aleju/imgaug\n",
    "from imgaug import augmenters as iaa\n",
    "import imgaug as ia"
   ]
  },
  {
   "cell_type": "code",
   "execution_count": 0,
   "metadata": {
    "colab": {},
    "colab_type": "code",
    "id": "89vnN2yGBWMx"
   },
   "outputs": [],
   "source": [
    "class ImgAugTransform:\n",
    "  def __init__(self):\n",
    "    self.aug = iaa.Sequential([\n",
    "        iaa.Scale((224, 224)),\n",
    "#         iaa.Sometimes(0.1, iaa.GaussianBlur(sigma=(0, 3.0))),\n",
    "        iaa.Fliplr(0.5),\n",
    "        iaa.Flipud(0.5),\n",
    "#         iaa.Sometimes(0.1, iaa.PiecewiseAffine(scale=(0.01, 0.03))),\n",
    "        iaa.Affine(rotate=(-20, 20), mode='symmetric'),\n",
    "#         iaa.Sometimes(0.25,\n",
    "#                       iaa.OneOf([iaa.Dropout(p=(0, 0.1)),\n",
    "#                                  iaa.CoarseDropout(0.1, size_percent=0.5)])),\n",
    "#         iaa.Sometimes(0.1, iaa.AddToHueAndSaturation(value=(-10, 10), per_channel=True))\n",
    "        \n",
    "    ])\n",
    "      \n",
    "  def __call__(self, img):\n",
    "    img = np.array(img)\n",
    "    return self.aug.augment_image(img)\n",
    "\n",
    "imgaug_transforms = ImgAugTransform()"
   ]
  },
  {
   "cell_type": "code",
   "execution_count": 0,
   "metadata": {
    "colab": {},
    "colab_type": "code",
    "id": "IgwVul4bj98o"
   },
   "outputs": [],
   "source": [
    "class GenomeDataset(Dataset):\n",
    "    def __init__(self, df, transform = None, training=True):\n",
    "        self.df = df\n",
    "        self.len = len(self.df)\n",
    "        self.transform = transform\n",
    "        self.training = training\n",
    "        self.normalize = transforms.Normalize(\n",
    "                         mean=[0.5, 0.5, 0.5],\n",
    "                         std=[0.5, 0.5, 0.5]\n",
    "                      )\n",
    "        self.toTensor = transforms.Compose([transforms.ToTensor(), self.normalize])\n",
    "        \n",
    "    def __len__(self):\n",
    "        return self.len\n",
    "    \n",
    "    def get_random_number(self):\n",
    "        return random.randint(0,self.len-1)\n",
    "    \n",
    "    def __getitem__(self,idx):\n",
    "        img = Image.open(self.df.iloc[idx].loc['image_path'])\n",
    "        \n",
    "        if self.transform:\n",
    "            img = self.transform(img)\n",
    "            \n",
    "        img = self.toTensor(img)\n",
    "            \n",
    "        if self.training:    \n",
    "            label = self.df.iloc[idx].loc['label']\n",
    "            return img,  label\n",
    "        else:\n",
    "            return img"
   ]
  },
  {
   "cell_type": "code",
   "execution_count": 0,
   "metadata": {
    "colab": {},
    "colab_type": "code",
    "id": "2nkcSCM8j98r"
   },
   "outputs": [],
   "source": [
    "# normalize = transforms.Normalize(\n",
    "#    mean=[0.5, 0.5, 0.5],\n",
    "#    std=[0.5, 0.5, 0.5]\n",
    "# )\n",
    "\n",
    "# trans_train = transforms.Compose([\n",
    "#     transforms.Resize([224,224]),\n",
    "# #     transforms.Pad(64, padding_mode='reflect'),\n",
    "#     transforms.RandomHorizontalFlip(),   \n",
    "#     transforms.RandomVerticalFlip(),   \n",
    "#     transforms.RandomRotation(20),\n",
    "# #     transforms.RandomCrop(224),\n",
    "#     transforms.ToTensor(),\n",
    "#     normalize\n",
    "# ])\n",
    "\n",
    "trans_test = transforms.Compose([\n",
    "    transforms.Resize([224,224]),\n",
    "#     transforms.ToTensor(),\n",
    "#     normalize\n",
    "])\n",
    "\n",
    "train_ds = GenomeDataset(df_train, transform=imgaug_transforms)\n",
    "val_ds = GenomeDataset(df_val, transform=trans_test)\n",
    "# test_ds = GenomeDataset(df_test, transform=trans_test, training=True)\n",
    "\n",
    "train_dl = DataLoader(train_ds, batch_size=32, shuffle=True, num_workers=0)\n",
    "val_dl = DataLoader(val_ds, batch_size=32, shuffle=False, num_workers=0)\n",
    "# test_dl = DataLoader(test_ds, batch_size=32, num_workers=0)"
   ]
  },
  {
   "cell_type": "code",
   "execution_count": 0,
   "metadata": {
    "colab": {
     "base_uri": "https://localhost:8080/",
     "height": 241
    },
    "colab_type": "code",
    "id": "jFsi_MEfj98t",
    "outputId": "b6ebe087-58be-4017-afa3-44f075d93417"
   },
   "outputs": [
    {
     "data": {
      "image/png": "[encoded data removed]",
      "text/plain": [
       "<PIL.Image.Image image mode=RGB size=224x224 at 0x7FD62D148208>"
      ]
     },
     "execution_count": 15,
     "metadata": {
      "tags": []
     },
     "output_type": "execute_result"
    }
   ],
   "source": [
    "toPIL = transforms.ToPILImage()\n",
    "toPIL(train_ds[1][0])"
   ]
  },
  {
   "cell_type": "code",
   "execution_count": 0,
   "metadata": {
    "colab": {},
    "colab_type": "code",
    "id": "Eb_Q1Mfcj98v"
   },
   "outputs": [],
   "source": [
    "# class SimpleCNN(nn.Module):\n",
    "#     def __init__(self):\n",
    "#         # ancestor constructor call\n",
    "#         super(SimpleCNN, self).__init__()\n",
    "#         self.conv1 = nn.Conv2d(in_channels=3, out_channels=32, kernel_size=3, padding=2)\n",
    "#         self.conv2 = nn.Conv2d(in_channels=32, out_channels=64, kernel_size=3, padding=2)\n",
    "#         self.conv3 = nn.Conv2d(in_channels=64, out_channels=128, kernel_size=3, padding=2)\n",
    "#         self.conv4 = nn.Conv2d(in_channels=128, out_channels=256, kernel_size=3, padding=2)\n",
    "#         self.conv5 = nn.Conv2d(in_channels=256, out_channels=512, kernel_size=3, padding=2)\n",
    "#         self.bn1 = nn.BatchNorm2d(32)\n",
    "#         self.bn2 = nn.BatchNorm2d(64)\n",
    "#         self.bn3 = nn.BatchNorm2d(128)\n",
    "#         self.bn4 = nn.BatchNorm2d(256)\n",
    "#         self.bn5 = nn.BatchNorm2d(512)\n",
    "#         self.pool = nn.MaxPool2d(kernel_size=2, stride=2)\n",
    "#         self.avg = nn.AvgPool2d(8)\n",
    "#         self.fc = nn.Linear(512 * 1 * 1, 2) \n",
    "        \n",
    "#     def forward(self, x):\n",
    "#         x = self.pool(F.leaky_relu(self.bn1(self.conv1(x)))) \n",
    "#         x = self.pool(F.leaky_relu(self.bn2(self.conv2(x))))\n",
    "#         x = self.pool(F.leaky_relu(self.bn3(self.conv3(x))))\n",
    "#         x = self.pool(F.leaky_relu(self.bn4(self.conv4(x))))\n",
    "#         x = self.pool(F.leaky_relu(self.bn5(self.conv5(x))))\n",
    "#         x = self.avg(x)\n",
    "#         x = x.view(-1, 512 * 1 * 1) \n",
    "#         x = self.fc(x)\n",
    "#         return x"
   ]
  },
  {
   "cell_type": "code",
   "execution_count": 0,
   "metadata": {
    "colab": {},
    "colab_type": "code",
    "id": "c_3zpDcOj98x"
   },
   "outputs": [],
   "source": [
    "# ## Parameters for model\n",
    "\n",
    "# # Hyper parameters\n",
    "# num_epochs = 50\n",
    "# num_classes = 2\n",
    "# batch_size = 32\n",
    "# learning_rate = 0.001\n",
    "\n",
    "# Device configuration\n",
    "device = torch.device('cuda:0' if torch.cuda.is_available() else 'cpu')\n"
   ]
  },
  {
   "cell_type": "code",
   "execution_count": 0,
   "metadata": {
    "colab": {},
    "colab_type": "code",
    "id": "sMQuTHVLj98y"
   },
   "outputs": [],
   "source": [
    "def train_model(dataloders, model, criterion, optimizer, scheduler=None, num_epochs=25):\n",
    "    since = time.time()\n",
    "    best_model_wts = model.state_dict()\n",
    "    best_acc = 0.0\n",
    "    dataset_sizes = {'train': len(dataloders['train'].dataset), \n",
    "                     'valid': len(dataloders['valid'].dataset)}\n",
    "\n",
    "    for epoch in range(num_epochs):\n",
    "        for phase in ['train', 'valid']:\n",
    "            if phase == 'train':\n",
    "#                 scheduler.step()\n",
    "                model.train(True)\n",
    "            else:\n",
    "                model.train(False)\n",
    "\n",
    "            running_loss = 0.0\n",
    "            running_corrects = 0\n",
    "\n",
    "            for inputs, labels in dataloders[phase]:\n",
    "                inputs, labels = inputs.to(device), labels.type(torch.LongTensor).to(device)\n",
    "\n",
    "                outputs = model(inputs)\n",
    "                _, preds = torch.max(outputs.data, 1)\n",
    "                loss = criterion(outputs, labels)\n",
    "    \n",
    "                if phase == 'train':\n",
    "                    optimizer.zero_grad()\n",
    "                    loss.backward()\n",
    "                    optimizer.step()\n",
    "                    scheduler.step()\n",
    "\n",
    "                running_loss += loss.item()\n",
    "                running_corrects += torch.sum(preds == labels).item()\n",
    "            \n",
    "            if phase == 'train':\n",
    "                train_epoch_loss = running_loss / dataset_sizes[phase]\n",
    "                train_epoch_acc = running_corrects / dataset_sizes[phase]\n",
    "            else:\n",
    "                valid_epoch_loss = running_loss / dataset_sizes[phase]\n",
    "                valid_epoch_acc = running_corrects / dataset_sizes[phase]\n",
    "                \n",
    "            if phase == 'valid' and valid_epoch_acc >= best_acc:\n",
    "                best_acc = valid_epoch_acc\n",
    "                best_model_wts = model.state_dict()\n",
    "\n",
    "        print('Epoch [{}/{}] train loss: {:.4f} acc: {:.4f} ' \n",
    "              'valid loss: {:.4f} acc: {:.4f}'.format(\n",
    "                epoch, num_epochs - 1,\n",
    "                train_epoch_loss, train_epoch_acc, \n",
    "                valid_epoch_loss, valid_epoch_acc))\n",
    "            \n",
    "    print('Best val Acc: {:4f}'.format(best_acc))\n",
    "\n",
    "    model.load_state_dict(best_model_wts)\n",
    "    return model"
   ]
  },
  {
   "cell_type": "code",
   "execution_count": 0,
   "metadata": {
    "colab": {},
    "colab_type": "code",
    "id": "Ndvbls1U9aqk"
   },
   "outputs": [],
   "source": [
    "# for name, param in list(model.named_parameters())[:42]:\n",
    "#   print (name)"
   ]
  },
  {
   "cell_type": "code",
   "execution_count": 0,
   "metadata": {
    "colab": {},
    "colab_type": "code",
    "id": "BeZDVQXJj980"
   },
   "outputs": [],
   "source": [
    "# model = SimpleCNN().to(device)\n",
    "\n",
    "model = models.densenet161(pretrained=True)\n",
    "\n",
    "# for param in list(model.parameters())[:117]:\n",
    "#     param.requires_grad = False\n",
    "\n",
    "for param in list(model.parameters())[:42]:\n",
    "    param.requires_grad = False\n",
    "\n",
    "num_ftrs = model.classifier.in_features\n",
    "# model.classifier = nn.Linear(num_ftrs, 2)\n",
    "model.classifier = nn.Sequential(\n",
    "            nn.Linear(num_ftrs, 100),\n",
    "            nn.ReLU(inplace=True),\n",
    "            nn.Linear(100, 2)\n",
    "        )\n",
    "\n",
    "model = model.to(device)\n",
    "\n",
    "\n",
    "criterion = nn.CrossEntropyLoss()\n",
    "optimizer = torch.optim.Adamax(model.parameters(), lr=0.001)\n",
    "lr_cosine = torch.optim.lr_scheduler.CosineAnnealingLR(optimizer, 100)\n",
    "\n",
    "# criterion = torch.nn.CrossEntropyLoss()\n",
    "# optimizer = torch.optim.SGD(resnet.fc.parameters(), lr=0.001, momentum=0.9)\n",
    "# exp_lr_scheduler = lr_scheduler.StepLR(optimizer, step_size=7, gamma=0.1)\n",
    "\n",
    "dloaders = {'train':train_dl, 'valid':val_dl}"
   ]
  },
  {
   "cell_type": "code",
   "execution_count": 21,
   "metadata": {
    "colab": {
     "base_uri": "https://localhost:8080/",
     "height": 221
    },
    "colab_type": "code",
    "id": "-Z1nSmUvj982",
    "outputId": "822f9bcf-e830-4e3b-f3ce-5516c1a4e4fb"
   },
   "outputs": [
    {
     "name": "stdout",
     "output_type": "stream",
     "text": [
      "Epoch [0/9] train loss: 0.0001 acc: 0.9993 valid loss: 0.0003 acc: 0.9938\n",
      "Epoch [1/9] train loss: 0.0001 acc: 0.9993 valid loss: 0.0009 acc: 0.9938\n",
      "Epoch [2/9] train loss: 0.0001 acc: 1.0000 valid loss: 0.0006 acc: 0.9875\n",
      "Epoch [3/9] train loss: 0.0006 acc: 0.9924 valid loss: 0.0005 acc: 0.9938\n",
      "Epoch [4/9] train loss: 0.0005 acc: 0.9958 valid loss: 0.0003 acc: 1.0000\n",
      "Epoch [5/9] train loss: 0.0005 acc: 0.9924 valid loss: 0.0013 acc: 0.9875\n",
      "Epoch [6/9] train loss: 0.0001 acc: 1.0000 valid loss: 0.0009 acc: 0.9875\n",
      "Epoch [7/9] train loss: 0.0000 acc: 1.0000 valid loss: 0.0005 acc: 0.9938\n",
      "Epoch [8/9] train loss: 0.0000 acc: 0.9993 valid loss: 0.0006 acc: 0.9938\n",
      "Epoch [9/9] train loss: 0.0000 acc: 1.0000 valid loss: 0.0007 acc: 0.9938\n",
      "Best val Acc: 1.000000\n",
      "Training time:   9.448325 minutes\n"
     ]
    }
   ],
   "source": [
    "start_time = time.time()\n",
    "model = train_model(dloaders, model, criterion, optimizer, scheduler=lr_cosine, num_epochs=10)\n",
    "print('Training time: {:10f} minutes'.format((time.time()-start_time)/60))"
   ]
  },
  {
   "cell_type": "code",
   "execution_count": 0,
   "metadata": {
    "colab": {},
    "colab_type": "code",
    "id": "N3De8Nkcj985"
   },
   "outputs": [],
   "source": [
    "model_path = os.path.join('model','densenet.pth')\n",
    "# torch.save(model.state_dict(), 'densenet_99.3.pth')"
   ]
  },
  {
   "cell_type": "code",
   "execution_count": 0,
   "metadata": {
    "colab": {},
    "colab_type": "code",
    "id": "GH_vLzkdj987"
   },
   "outputs": [],
   "source": [
    "# load model \n",
    "model.load_state_dict(torch.load(model_path))\n"
   ]
  },
  {
   "cell_type": "code",
   "execution_count": 22,
   "metadata": {
    "colab": {
     "base_uri": "https://localhost:8080/",
     "height": 122
    },
    "colab_type": "code",
    "id": "jcThvMUdMY3V",
    "outputId": "cb3f00b1-7184-4d05-afdf-4da58b437e43"
   },
   "outputs": [
    {
     "name": "stdout",
     "output_type": "stream",
     "text": [
      "Go to this URL in a browser: https://accounts.google.com/o/oauth2/auth?client_id=947318989803-6bn6qk8qdgf4n4g3pfee6491hc0brc4i.apps.googleusercontent.com&redirect_uri=urn%3Aietf%3Awg%3Aoauth%3A2.0%3Aoob&scope=email%20https%3A%2F%2Fwww.googleapis.com%2Fauth%2Fdocs.test%20https%3A%2F%2Fwww.googleapis.com%2Fauth%2Fdrive%20https%3A%2F%2Fwww.googleapis.com%2Fauth%2Fdrive.photos.readonly%20https%3A%2F%2Fwww.googleapis.com%2Fauth%2Fpeopleapi.readonly&response_type=code\n",
      "\n",
      "Enter your authorization code:\n",
      "··········\n",
      "Mounted at /content/gdrive\n"
     ]
    }
   ],
   "source": [
    "from google.colab import drive\n",
    "drive.mount('/content/gdrive')"
   ]
  },
  {
   "cell_type": "code",
   "execution_count": 0,
   "metadata": {
    "colab": {},
    "colab_type": "code",
    "id": "_cczfmPdj989"
   },
   "outputs": [],
   "source": [
    "torch.save(model.state_dict(), '/content/gdrive/My Drive/genome/model/densenet_100.pth')"
   ]
  },
  {
   "cell_type": "code",
   "execution_count": 0,
   "metadata": {
    "colab": {},
    "colab_type": "code",
    "id": "I1CAfzAAM0kz"
   },
   "outputs": [],
   "source": [
    "model.load_state_dict(torch.load('/content/gdrive/My Drive/genome/model/densenet_99.3.pth'))"
   ]
  },
  {
   "cell_type": "code",
   "execution_count": 0,
   "metadata": {
    "colab": {},
    "colab_type": "code",
    "id": "WlPbEUXZj99A"
   },
   "outputs": [],
   "source": [
    "# # Train the model\n",
    "# total_step = len(train_dl)\n",
    "# for epoch in range(num_epochs):\n",
    "#     for i, (images, labels) in enumerate(train_dl):\n",
    "#         images = images.to(device)\n",
    "#         labels = labels.to(device)\n",
    "        \n",
    "#         # Forward pass\n",
    "#         outputs = model(images)\n",
    "#         loss = criterion(outputs, labels)\n",
    "        \n",
    "#         # Backward and optimize\n",
    "#         optimizer.zero_grad()\n",
    "#         loss.backward()\n",
    "#         optimizer.step()\n",
    "        \n",
    "#         if (i+1) % 20 == 0:\n",
    "#             print ('Epoch [{}/{}], Step [{}/{}], Loss: {:.4f}' \n",
    "#                    .format(epoch+1, num_epochs, i+1, total_step, loss.item()))"
   ]
  },
  {
   "cell_type": "code",
   "execution_count": 24,
   "metadata": {
    "colab": {
     "base_uri": "https://localhost:8080/",
     "height": 34
    },
    "colab_type": "code",
    "id": "jxCaWD4sj99C",
    "outputId": "c3333cb0-9119-497e-f6bd-6d4446ae9838"
   },
   "outputs": [
    {
     "name": "stdout",
     "output_type": "stream",
     "text": [
      "Test Accuracy of the model on the test images: 99.375 %\n"
     ]
    }
   ],
   "source": [
    "model.eval()  \n",
    "y_true=[]\n",
    "y_pred=[]\n",
    "\n",
    "with torch.no_grad():\n",
    "    correct = 0\n",
    "    total = 0\n",
    "    for images, labels in val_dl:\n",
    "        images = images.to(device)\n",
    "#         print(images.size())\n",
    "        labels = labels.to(device)\n",
    "        outputs = model(images)\n",
    "        _, predicted = torch.max(outputs.data, 1)\n",
    "        total += labels.size(0)\n",
    "#         print(predicted, labels)\n",
    "        correct += (predicted == labels).sum().item()\n",
    "        \n",
    "        y_true+=list(labels.cpu().numpy())\n",
    "        y_pred+=list(predicted.cpu().numpy())\n",
    "          \n",
    "    print('Test Accuracy of the model on the test images: {} %'.format(100 * correct / total))\n"
   ]
  },
  {
   "cell_type": "code",
   "execution_count": 0,
   "metadata": {
    "colab": {},
    "colab_type": "code",
    "id": "H0MraiJBj99F"
   },
   "outputs": [],
   "source": [
    "from sklearn.metrics import confusion_matrix\n",
    "cm = confusion_matrix(y_true, y_pred)"
   ]
  },
  {
   "cell_type": "code",
   "execution_count": 26,
   "metadata": {
    "colab": {
     "base_uri": "https://localhost:8080/",
     "height": 51
    },
    "colab_type": "code",
    "id": "3yRUxkZ_j99G",
    "outputId": "13adeebd-f11e-46ab-f4dc-8de8015bfc8b"
   },
   "outputs": [
    {
     "data": {
      "text/plain": [
       "array([[ 51,   1],\n",
       "       [  0, 108]])"
      ]
     },
     "execution_count": 26,
     "metadata": {
      "tags": []
     },
     "output_type": "execute_result"
    }
   ],
   "source": [
    "cm"
   ]
  },
  {
   "cell_type": "code",
   "execution_count": 27,
   "metadata": {
    "colab": {
     "base_uri": "https://localhost:8080/",
     "height": 295
    },
    "colab_type": "code",
    "id": "fID13F05j99J",
    "outputId": "f08400ce-9730-4f99-c351-c73c410c8ef7"
   },
   "outputs": [
    {
     "data": {
      "image/png": "[encoded data removed]",
      "text/plain": [
       "<Figure size 432x288 with 2 Axes>"
      ]
     },
     "metadata": {
      "tags": []
     },
     "output_type": "display_data"
    }
   ],
   "source": [
    "import seaborn as sns    \n",
    "\n",
    "ax= plt.subplot()\n",
    "sns.heatmap(cm, annot=True, ax = ax); #annot=True to annotate cells\n",
    "\n",
    "# labels, title and ticks\n",
    "ax.set_xlabel('Predicted labels');\n",
    "ax.set_ylabel('True labels'); \n",
    "ax.set_title('Confusion Matrix'); \n",
    "ax.xaxis.set_ticklabels(['Negative', 'Positive']); \n",
    "ax.yaxis.set_ticklabels(['Negative', 'Positive']);"
   ]
  },
  {
   "cell_type": "code",
   "execution_count": 28,
   "metadata": {
    "colab": {
     "base_uri": "https://localhost:8080/",
     "height": 68
    },
    "colab_type": "code",
    "id": "ziyjDSlPj99L",
    "outputId": "a189c274-c860-48f1-de8c-b9841843dcb0"
   },
   "outputs": [
    {
     "name": "stdout",
     "output_type": "stream",
     "text": [
      "0.9953917050691244\n",
      "0.9908256880733946\n",
      "1.0\n"
     ]
    }
   ],
   "source": [
    "from sklearn.metrics import f1_score, precision_score, recall_score\n",
    "\n",
    "print(f1_score(y_true, y_pred))\n",
    "print(precision_score(y_true, y_pred))\n",
    "print(recall_score(y_true, y_pred))  "
   ]
  },
  {
   "cell_type": "code",
   "execution_count": 0,
   "metadata": {
    "colab": {
     "base_uri": "https://localhost:8080/",
     "height": 34
    },
    "colab_type": "code",
    "id": "s9GboNt9j99N",
    "outputId": "2619b0f6-efd9-48e1-a8a5-879201aa79f8"
   },
   "outputs": [
    {
     "data": {
      "text/plain": [
       "26693102"
      ]
     },
     "execution_count": 25,
     "metadata": {
      "tags": []
     },
     "output_type": "execute_result"
    }
   ],
   "source": [
    "# number of params\n",
    "sum(p.numel() for p in model.parameters())"
   ]
  },
  {
   "cell_type": "code",
   "execution_count": 0,
   "metadata": {
    "colab": {},
    "colab_type": "code",
    "id": "fsgQAFtIj99P"
   },
   "outputs": [],
   "source": []
  }
 ],
 "metadata": {
  "accelerator": "GPU",
  "colab": {
   "collapsed_sections": [],
   "name": "Densenet.ipynb",
   "provenance": [],
   "version": "0.3.2"
  },
  "kernelspec": {
   "display_name": "Python 3",
   "language": "python",
   "name": "python3"
  },
  "language_info": {
   "codemirror_mode": {
    "name": "ipython",
    "version": 3
   },
   "file_extension": ".py",
   "mimetype": "text/x-python",
   "name": "python",
   "nbconvert_exporter": "python",
   "pygments_lexer": "ipython3",
   "version": "3.7.3"
  }
 },
 "nbformat": 4,
 "nbformat_minor": 1
}
