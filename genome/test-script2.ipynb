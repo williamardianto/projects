{
 "cells": [
  {
   "cell_type": "code",
   "execution_count": 1,
   "metadata": {},
   "outputs": [],
   "source": [
    "import glob\n",
    "import numpy as np\n",
    "import pandas as pd\n",
    "import os\n",
    "import matplotlib.pyplot as plt\n",
    "\n",
    "import time\n",
    "\n",
    "from PIL import Image\n",
    "\n",
    "import torch\n",
    "import torch.nn as nn\n",
    "import torch.nn.functional as F\n",
    "\n",
    "from torch.utils.data import Dataset, DataLoader\n",
    "\n",
    "from torchvision import transforms, models, utils\n",
    "\n",
    "# device = torch.device('cuda:0' if torch.cuda.is_available() else 'cpu')\n",
    "device = torch.device('cpu')"
   ]
  },
  {
   "cell_type": "code",
   "execution_count": 2,
   "metadata": {
    "scrolled": true
   },
   "outputs": [
    {
     "data": {
      "text/html": [
       "<div>\n",
       "<style scoped>\n",
       "    .dataframe tbody tr th:only-of-type {\n",
       "        vertical-align: middle;\n",
       "    }\n",
       "\n",
       "    .dataframe tbody tr th {\n",
       "        vertical-align: top;\n",
       "    }\n",
       "\n",
       "    .dataframe thead th {\n",
       "        text-align: right;\n",
       "    }\n",
       "</style>\n",
       "<table border=\"1\" class=\"dataframe\">\n",
       "  <thead>\n",
       "    <tr style=\"text-align: right;\">\n",
       "      <th></th>\n",
       "      <th>image_id</th>\n",
       "      <th>label</th>\n",
       "    </tr>\n",
       "  </thead>\n",
       "  <tbody>\n",
       "    <tr>\n",
       "      <th>0</th>\n",
       "      <td>BreastHistoTTD_1029</td>\n",
       "      <td>1</td>\n",
       "    </tr>\n",
       "    <tr>\n",
       "      <th>1</th>\n",
       "      <td>BreastHistoTTD_1035</td>\n",
       "      <td>1</td>\n",
       "    </tr>\n",
       "    <tr>\n",
       "      <th>2</th>\n",
       "      <td>BreastHistoTTD_389</td>\n",
       "      <td>1</td>\n",
       "    </tr>\n",
       "    <tr>\n",
       "      <th>3</th>\n",
       "      <td>BreastHistoTTD_1086</td>\n",
       "      <td>1</td>\n",
       "    </tr>\n",
       "    <tr>\n",
       "      <th>4</th>\n",
       "      <td>BreastHistoTTD_411</td>\n",
       "      <td>1</td>\n",
       "    </tr>\n",
       "  </tbody>\n",
       "</table>\n",
       "</div>"
      ],
      "text/plain": [
       "              image_id  label\n",
       "0  BreastHistoTTD_1029      1\n",
       "1  BreastHistoTTD_1035      1\n",
       "2   BreastHistoTTD_389      1\n",
       "3  BreastHistoTTD_1086      1\n",
       "4   BreastHistoTTD_411      1"
      ]
     },
     "execution_count": 2,
     "metadata": {},
     "output_type": "execute_result"
    }
   ],
   "source": [
    "test_csv = os.path.join('data','training-dataset','latest_training_data.csv')\n",
    "df_test = pd.read_csv(test_csv)\n",
    "df_test.head()"
   ]
  },
  {
   "cell_type": "code",
   "execution_count": 3,
   "metadata": {},
   "outputs": [
    {
     "data": {
      "text/html": [
       "<div>\n",
       "<style scoped>\n",
       "    .dataframe tbody tr th:only-of-type {\n",
       "        vertical-align: middle;\n",
       "    }\n",
       "\n",
       "    .dataframe tbody tr th {\n",
       "        vertical-align: top;\n",
       "    }\n",
       "\n",
       "    .dataframe thead th {\n",
       "        text-align: right;\n",
       "    }\n",
       "</style>\n",
       "<table border=\"1\" class=\"dataframe\">\n",
       "  <thead>\n",
       "    <tr style=\"text-align: right;\">\n",
       "      <th></th>\n",
       "      <th>image_id</th>\n",
       "      <th>label</th>\n",
       "      <th>image_path</th>\n",
       "    </tr>\n",
       "  </thead>\n",
       "  <tbody>\n",
       "    <tr>\n",
       "      <th>0</th>\n",
       "      <td>BreastHistoTTD_1029</td>\n",
       "      <td>1</td>\n",
       "      <td>data\\training-dataset\\latest_training_data1\\Br...</td>\n",
       "    </tr>\n",
       "    <tr>\n",
       "      <th>1</th>\n",
       "      <td>BreastHistoTTD_1035</td>\n",
       "      <td>1</td>\n",
       "      <td>data\\training-dataset\\latest_training_data1\\Br...</td>\n",
       "    </tr>\n",
       "    <tr>\n",
       "      <th>2</th>\n",
       "      <td>BreastHistoTTD_389</td>\n",
       "      <td>1</td>\n",
       "      <td>data\\training-dataset\\latest_training_data1\\Br...</td>\n",
       "    </tr>\n",
       "    <tr>\n",
       "      <th>3</th>\n",
       "      <td>BreastHistoTTD_1086</td>\n",
       "      <td>1</td>\n",
       "      <td>data\\training-dataset\\latest_training_data1\\Br...</td>\n",
       "    </tr>\n",
       "    <tr>\n",
       "      <th>4</th>\n",
       "      <td>BreastHistoTTD_411</td>\n",
       "      <td>1</td>\n",
       "      <td>data\\training-dataset\\latest_training_data1\\Br...</td>\n",
       "    </tr>\n",
       "  </tbody>\n",
       "</table>\n",
       "</div>"
      ],
      "text/plain": [
       "              image_id  label  \\\n",
       "0  BreastHistoTTD_1029      1   \n",
       "1  BreastHistoTTD_1035      1   \n",
       "2   BreastHistoTTD_389      1   \n",
       "3  BreastHistoTTD_1086      1   \n",
       "4   BreastHistoTTD_411      1   \n",
       "\n",
       "                                          image_path  \n",
       "0  data\\training-dataset\\latest_training_data1\\Br...  \n",
       "1  data\\training-dataset\\latest_training_data1\\Br...  \n",
       "2  data\\training-dataset\\latest_training_data1\\Br...  \n",
       "3  data\\training-dataset\\latest_training_data1\\Br...  \n",
       "4  data\\training-dataset\\latest_training_data1\\Br...  "
      ]
     },
     "execution_count": 3,
     "metadata": {},
     "output_type": "execute_result"
    }
   ],
   "source": [
    "df_test['image_path'] = df_test['image_id'].map(lambda x: os.path.join('data','training-dataset','latest_training_data1',x+'.png'))\n",
    "df_test.head()"
   ]
  },
  {
   "cell_type": "code",
   "execution_count": 17,
   "metadata": {},
   "outputs": [
    {
     "data": {
      "text/plain": [
       "(200, 4)"
      ]
     },
     "execution_count": 17,
     "metadata": {},
     "output_type": "execute_result"
    }
   ],
   "source": [
    "df_test = df_test.iloc[:200]\n",
    "\n",
    "df_test.shape"
   ]
  },
  {
   "cell_type": "code",
   "execution_count": 5,
   "metadata": {},
   "outputs": [
    {
     "data": {
      "text/html": [
       "<div>\n",
       "<style scoped>\n",
       "    .dataframe tbody tr th:only-of-type {\n",
       "        vertical-align: middle;\n",
       "    }\n",
       "\n",
       "    .dataframe tbody tr th {\n",
       "        vertical-align: top;\n",
       "    }\n",
       "\n",
       "    .dataframe thead th {\n",
       "        text-align: right;\n",
       "    }\n",
       "</style>\n",
       "<table border=\"1\" class=\"dataframe\">\n",
       "  <thead>\n",
       "    <tr style=\"text-align: right;\">\n",
       "      <th></th>\n",
       "      <th>image_id</th>\n",
       "      <th>label</th>\n",
       "      <th>image_path</th>\n",
       "    </tr>\n",
       "  </thead>\n",
       "  <tbody>\n",
       "    <tr>\n",
       "      <th>0</th>\n",
       "      <td>BreastHistoTTD_1029</td>\n",
       "      <td>1</td>\n",
       "      <td>data\\training-dataset\\latest_training_data1\\Br...</td>\n",
       "    </tr>\n",
       "    <tr>\n",
       "      <th>1</th>\n",
       "      <td>BreastHistoTTD_1035</td>\n",
       "      <td>1</td>\n",
       "      <td>data\\training-dataset\\latest_training_data1\\Br...</td>\n",
       "    </tr>\n",
       "    <tr>\n",
       "      <th>2</th>\n",
       "      <td>BreastHistoTTD_389</td>\n",
       "      <td>1</td>\n",
       "      <td>data\\training-dataset\\latest_training_data1\\Br...</td>\n",
       "    </tr>\n",
       "    <tr>\n",
       "      <th>3</th>\n",
       "      <td>BreastHistoTTD_1086</td>\n",
       "      <td>1</td>\n",
       "      <td>data\\training-dataset\\latest_training_data1\\Br...</td>\n",
       "    </tr>\n",
       "    <tr>\n",
       "      <th>4</th>\n",
       "      <td>BreastHistoTTD_411</td>\n",
       "      <td>1</td>\n",
       "      <td>data\\training-dataset\\latest_training_data1\\Br...</td>\n",
       "    </tr>\n",
       "  </tbody>\n",
       "</table>\n",
       "</div>"
      ],
      "text/plain": [
       "              image_id  label  \\\n",
       "0  BreastHistoTTD_1029      1   \n",
       "1  BreastHistoTTD_1035      1   \n",
       "2   BreastHistoTTD_389      1   \n",
       "3  BreastHistoTTD_1086      1   \n",
       "4   BreastHistoTTD_411      1   \n",
       "\n",
       "                                          image_path  \n",
       "0  data\\training-dataset\\latest_training_data1\\Br...  \n",
       "1  data\\training-dataset\\latest_training_data1\\Br...  \n",
       "2  data\\training-dataset\\latest_training_data1\\Br...  \n",
       "3  data\\training-dataset\\latest_training_data1\\Br...  \n",
       "4  data\\training-dataset\\latest_training_data1\\Br...  "
      ]
     },
     "execution_count": 5,
     "metadata": {},
     "output_type": "execute_result"
    }
   ],
   "source": [
    "df_test.head()"
   ]
  },
  {
   "cell_type": "code",
   "execution_count": 6,
   "metadata": {},
   "outputs": [],
   "source": [
    "class GenomeDataset(Dataset):\n",
    "    def __init__(self, df, transform = None, training=True):\n",
    "        self.df = df\n",
    "        self.len = len(self.df)\n",
    "        self.transform = transform\n",
    "        self.training = training\n",
    "        self.normalize = transforms.Normalize(\n",
    "                         mean=[0.5, 0.5, 0.5],\n",
    "                         std=[0.5, 0.5, 0.5]\n",
    "                      )\n",
    "        self.toTensor = transforms.Compose([transforms.ToTensor(), self.normalize])\n",
    "        \n",
    "    def __len__(self):\n",
    "        return self.len\n",
    "    \n",
    "    def get_random_number(self):\n",
    "        return random.randint(0,self.len-1)\n",
    "    \n",
    "    def __getitem__(self,idx):\n",
    "        img = Image.open(self.df.iloc[idx].loc['image_path'])\n",
    "        \n",
    "        if self.transform:\n",
    "            img = self.transform(img)\n",
    "            \n",
    "        img = self.toTensor(img)\n",
    "            \n",
    "        if self.training:    \n",
    "            label = self.df.iloc[idx].loc['label']\n",
    "            return img,  label\n",
    "        else:\n",
    "            return img"
   ]
  },
  {
   "cell_type": "code",
   "execution_count": 18,
   "metadata": {},
   "outputs": [],
   "source": [
    "# normalize = transforms.Normalize(\n",
    "#    mean=[0.5, 0.5, 0.5],\n",
    "#    std=[0.5, 0.5, 0.5]\n",
    "# )\n",
    "\n",
    "# trans_train = transforms.Compose([\n",
    "#     transforms.Resize([224,224]),\n",
    "# #     transforms.Pad(64, padding_mode='reflect'),\n",
    "#     transforms.RandomHorizontalFlip(),   \n",
    "#     transforms.RandomVerticalFlip(),   \n",
    "#     transforms.RandomRotation(20),\n",
    "# #     transforms.RandomCrop(224),\n",
    "#     transforms.ToTensor(),\n",
    "#     normalize\n",
    "# ])\n",
    "\n",
    "trans_test = transforms.Compose([\n",
    "    transforms.Resize([224,224]),\n",
    "#     transforms.ToTensor(),\n",
    "#     normalize\n",
    "])\n",
    "\n",
    "# train_ds = GenomeDataset(df_train, transform=imgaug_transforms)\n",
    "# val_ds = GenomeDataset(df_val, transform=trans_test)\n",
    "test_ds = GenomeDataset(df_test, transform=trans_test, training=False)\n",
    "\n",
    "# train_dl = DataLoader(train_ds, batch_size=32, shuffle=True, num_workers=0)\n",
    "# val_dl = DataLoader(val_ds, batch_size=32, shuffle=False, num_workers=0)\n",
    "test_dl = DataLoader(test_ds, batch_size=32, num_workers=0)"
   ]
  },
  {
   "cell_type": "code",
   "execution_count": 19,
   "metadata": {},
   "outputs": [
    {
     "data": {
      "image/png": "[encoded data removed]",
      "text/plain": [
       "<PIL.Image.Image image mode=L size=224x224 at 0x1E143D45E48>"
      ]
     },
     "execution_count": 19,
     "metadata": {},
     "output_type": "execute_result"
    }
   ],
   "source": [
    "toPIL = transforms.ToPILImage()\n",
    "toPIL(test_ds[3][0])"
   ]
  },
  {
   "cell_type": "code",
   "execution_count": 20,
   "metadata": {},
   "outputs": [],
   "source": [
    "model = models.densenet161(pretrained=False)\n",
    "\n",
    "num_ftrs = model.classifier.in_features\n",
    "model.classifier = nn.Sequential(\n",
    "            nn.Linear(num_ftrs, 100),\n",
    "            nn.ReLU(inplace=True),\n",
    "            nn.Linear(100, 2)\n",
    "        )\n",
    "\n",
    "model = model.to(device)"
   ]
  },
  {
   "cell_type": "code",
   "execution_count": 21,
   "metadata": {},
   "outputs": [],
   "source": [
    "model_path = os.path.join('model','densenet_100.pth')\n",
    "\n",
    "model.load_state_dict(torch.load(model_path))"
   ]
  },
  {
   "cell_type": "code",
   "execution_count": 22,
   "metadata": {},
   "outputs": [],
   "source": [
    "def predict():\n",
    "    model.eval()  \n",
    "    y_pred=[]\n",
    "\n",
    "    with torch.no_grad():\n",
    "        correct = 0\n",
    "        total = 0\n",
    "        for images in test_dl:\n",
    "            images = images.to(device)\n",
    "            outputs = model(images)\n",
    "            _, predicted = torch.max(outputs.data, 1)\n",
    "\n",
    "            y_pred+=list(predicted.cpu().numpy())\n",
    "    return y_pred\n"
   ]
  },
  {
   "cell_type": "code",
   "execution_count": 23,
   "metadata": {},
   "outputs": [
    {
     "name": "stdout",
     "output_type": "stream",
     "text": [
      "Prediction time:   1.265051 minutes\n"
     ]
    }
   ],
   "source": [
    "start_time = time.time()\n",
    "predictions = predict()\n",
    "print('Prediction time: {:10f} minutes'.format((time.time()-start_time)/60))"
   ]
  },
  {
   "cell_type": "code",
   "execution_count": 24,
   "metadata": {},
   "outputs": [],
   "source": [
    "df_test['Classification'] = pd.Series(predictions)"
   ]
  },
  {
   "cell_type": "code",
   "execution_count": 25,
   "metadata": {},
   "outputs": [
    {
     "data": {
      "text/html": [
       "<div>\n",
       "<style scoped>\n",
       "    .dataframe tbody tr th:only-of-type {\n",
       "        vertical-align: middle;\n",
       "    }\n",
       "\n",
       "    .dataframe tbody tr th {\n",
       "        vertical-align: top;\n",
       "    }\n",
       "\n",
       "    .dataframe thead th {\n",
       "        text-align: right;\n",
       "    }\n",
       "</style>\n",
       "<table border=\"1\" class=\"dataframe\">\n",
       "  <thead>\n",
       "    <tr style=\"text-align: right;\">\n",
       "      <th></th>\n",
       "      <th>image_id</th>\n",
       "      <th>label</th>\n",
       "      <th>image_path</th>\n",
       "      <th>Classification</th>\n",
       "    </tr>\n",
       "  </thead>\n",
       "  <tbody>\n",
       "    <tr>\n",
       "      <th>0</th>\n",
       "      <td>BreastHistoTTD_1029</td>\n",
       "      <td>1</td>\n",
       "      <td>data\\training-dataset\\latest_training_data1\\Br...</td>\n",
       "      <td>1</td>\n",
       "    </tr>\n",
       "    <tr>\n",
       "      <th>1</th>\n",
       "      <td>BreastHistoTTD_1035</td>\n",
       "      <td>1</td>\n",
       "      <td>data\\training-dataset\\latest_training_data1\\Br...</td>\n",
       "      <td>1</td>\n",
       "    </tr>\n",
       "    <tr>\n",
       "      <th>2</th>\n",
       "      <td>BreastHistoTTD_389</td>\n",
       "      <td>1</td>\n",
       "      <td>data\\training-dataset\\latest_training_data1\\Br...</td>\n",
       "      <td>1</td>\n",
       "    </tr>\n",
       "    <tr>\n",
       "      <th>3</th>\n",
       "      <td>BreastHistoTTD_1086</td>\n",
       "      <td>1</td>\n",
       "      <td>data\\training-dataset\\latest_training_data1\\Br...</td>\n",
       "      <td>1</td>\n",
       "    </tr>\n",
       "    <tr>\n",
       "      <th>4</th>\n",
       "      <td>BreastHistoTTD_411</td>\n",
       "      <td>1</td>\n",
       "      <td>data\\training-dataset\\latest_training_data1\\Br...</td>\n",
       "      <td>1</td>\n",
       "    </tr>\n",
       "  </tbody>\n",
       "</table>\n",
       "</div>"
      ],
      "text/plain": [
       "              image_id  label  \\\n",
       "0  BreastHistoTTD_1029      1   \n",
       "1  BreastHistoTTD_1035      1   \n",
       "2   BreastHistoTTD_389      1   \n",
       "3  BreastHistoTTD_1086      1   \n",
       "4   BreastHistoTTD_411      1   \n",
       "\n",
       "                                          image_path  Classification  \n",
       "0  data\\training-dataset\\latest_training_data1\\Br...               1  \n",
       "1  data\\training-dataset\\latest_training_data1\\Br...               1  \n",
       "2  data\\training-dataset\\latest_training_data1\\Br...               1  \n",
       "3  data\\training-dataset\\latest_training_data1\\Br...               1  \n",
       "4  data\\training-dataset\\latest_training_data1\\Br...               1  "
      ]
     },
     "execution_count": 25,
     "metadata": {},
     "output_type": "execute_result"
    }
   ],
   "source": [
    "df_test.head()"
   ]
  },
  {
   "cell_type": "code",
   "execution_count": 26,
   "metadata": {},
   "outputs": [
    {
     "data": {
      "text/plain": [
       "1.0"
      ]
     },
     "execution_count": 26,
     "metadata": {},
     "output_type": "execute_result"
    }
   ],
   "source": [
    "(df_test['label'] == df_test['Classification']).sum()/len(df_test)"
   ]
  },
  {
   "cell_type": "code",
   "execution_count": null,
   "metadata": {},
   "outputs": [],
   "source": []
  }
 ],
 "metadata": {
  "kernelspec": {
   "display_name": "Python 3",
   "language": "python",
   "name": "python3"
  },
  "language_info": {
   "codemirror_mode": {
    "name": "ipython",
    "version": 3
   },
   "file_extension": ".py",
   "mimetype": "text/x-python",
   "name": "python",
   "nbconvert_exporter": "python",
   "pygments_lexer": "ipython3",
   "version": "3.7.3"
  }
 },
 "nbformat": 4,
 "nbformat_minor": 2
}
